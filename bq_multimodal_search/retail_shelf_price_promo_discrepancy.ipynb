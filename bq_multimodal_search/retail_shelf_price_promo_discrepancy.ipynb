{
 "cells": [
  {
   "cell_type": "markdown",
   "id": "b5ddc59a",
   "metadata": {},
   "source": [
    "\n",
    "# Price & Promotion Discrepancy Finder (BigQuery + Gemini)\n",
    "\n",
    "This notebook is ready for **BigQuery Studio → Notebooks** (or Colab/Jupyter).  \n",
    "It uses **environment variables** for all project/dataset/table names so you can reuse it anywhere.\n",
    "\n",
    "### What we’re solving (clear use case)\n",
    "Retailers run thousands of **price & promo** campaigns weekly. In-store execution often drifts from plan:\n",
    "- Wrong sign vs POS price (e.g., *2 för 30* but POS lists **29.95**).\n",
    "- Wrong item/brand under sign.\n",
    "- Outdated promo sign after expiry.\n",
    "- Mixed promos within one display.\n",
    "  \n",
    "We **combine**:\n",
    "1) **Image embeddings** of shelf photos (Gemini multimodal)  \n",
    "2) **Text embeddings** of structured product pricing/promotions  \n",
    "3) A **single natural-language query** (e.g., “gurka 2 för 30”) to retrieve relevant **images + products**, parse the sign (“2 for 30” → **15 SEK** each), and **flag discrepancies** by comparing against structured prices.\n"
   ]
  },
  {
   "cell_type": "markdown",
   "id": "37bd98c7",
   "metadata": {},
   "source": [
    "\n",
    "## Prerequisites\n",
    "- Google Cloud project with **BigQuery** and **Vertex AI** APIs enabled.\n",
    "- `gcloud` and `bq` CLIs authenticated (`gcloud auth login`).\n",
    "- A small set of sample shelf images in a GCS path (you’ll set the bucket/prefix below).\n",
    "- A CSV `pricing_promotions.csv` with columns:  \n",
    "  `product_name, category, listed_price, promo_text, promo_price, discrepancy_flag`\n"
   ]
  },
  {
   "cell_type": "markdown",
   "id": "0eadc56f",
   "metadata": {},
   "source": [
    "## 0) Environment variables (edit if needed)"
   ]
  },
  {
   "cell_type": "code",
   "execution_count": null,
   "id": "80265723",
   "metadata": {},
   "outputs": [],
   "source": [
    "\n",
    "import os\n",
    "PROJECT_ID = os.environ.get('PROJECT_ID', 'your-project-id')\n",
    "BQ_DATASET = os.environ.get('BQ_DATASET', 'retail_shelf')\n",
    "BQ_LOCATION = os.environ.get('BQ_LOCATION', 'US')  # match your dataset/connection region\n",
    "CONN_ID = os.environ.get('CONN_ID', f'{BQ_LOCATION}.retail_shelf_conn')\n",
    "GCS_BUCKET = os.environ.get('GCS_BUCKET', 'sm-gemini-pg-retail-semantic')\n",
    "GCS_PREFIX = os.environ.get('GCS_PREFIX', 'retail_shelf/*')  # path under the bucket\n",
    "\n",
    "# Table/model names\n",
    "OBJ_TABLE = os.environ.get('OBJ_TABLE', 'shelves')\n",
    "IMG_EMB_TABLE = os.environ.get('IMG_EMB_TABLE', 'shelf_embeddings')\n",
    "IMG_EMB_INDEX = os.environ.get('IMG_EMB_INDEX', 'idx_shelf_image_embeddings')\n",
    "TXT_MODEL = os.environ.get('TXT_MODEL', 'text_embedding_model')\n",
    "MM_MODEL = os.environ.get('MM_MODEL', 'multimodal_embedding_model')\n",
    "PRICING_TABLE = os.environ.get('PRICING_TABLE', 'pricing_promotions')\n",
    "PRICING_EMB_TABLE = os.environ.get('PRICING_EMB_TABLE', 'pricing_promotions_emb')\n",
    "PRICING_VEC_VIEW = os.environ.get('PRICING_VEC_VIEW', 'pricing_promotions_vec')\n",
    "\n",
    "print(PROJECT_ID, BQ_DATASET, BQ_LOCATION, CONN_ID)\n"
   ]
  },
  {
   "cell_type": "code",
   "execution_count": null,
   "id": "2d68d2e8",
   "metadata": {},
   "outputs": [],
   "source": [
    "\n",
    "%env PROJECT_ID=$PROJECT_ID\n",
    "%env BQ_DATASET=$BQ_DATASET\n",
    "%env BQ_LOCATION=$BQ_LOCATION\n",
    "%env CONN_ID=$CONN_ID\n",
    "%env GCS_BUCKET=$GCS_BUCKET\n",
    "%env GCS_PREFIX=$GCS_PREFIX\n",
    "%env OBJ_TABLE=$OBJ_TABLE\n",
    "%env IMG_EMB_TABLE=$IMG_EMB_TABLE\n",
    "%env IMG_EMB_INDEX=$IMG_EMB_INDEX\n",
    "%env TXT_MODEL=$TXT_MODEL\n",
    "%env MM_MODEL=$MM_MODEL\n",
    "%env PRICING_TABLE=$PRICING_TABLE\n",
    "%env PRICING_EMB_TABLE=$PRICING_EMB_TABLE\n",
    "%env PRICING_VEC_VIEW=$PRICING_VEC_VIEW\n"
   ]
  },
  {
   "cell_type": "markdown",
   "id": "0f95ca99",
   "metadata": {},
   "source": [
    "## 1) Create dataset & Cloud Resource connection"
   ]
  },
  {
   "cell_type": "code",
   "execution_count": null,
   "id": "16a46d6d",
   "metadata": {},
   "outputs": [],
   "source": [
    "\n",
    "%%bash\n",
    "set -euo pipefail\n",
    "bq --location=${BQ_LOCATION} --project_id=${PROJECT_ID} mk -d ${BQ_DATASET} || echo \"Dataset may already exist\"\n",
    "\n",
    "# Create (or show) a Cloud Resource connection for object tables / remote models\n",
    "bq --project_id=${PROJECT_ID} mk   --connection   --location=${BQ_LOCATION}   --connection_type=CLOUD_RESOURCE   ${CONN_ID} || true\n",
    "\n",
    "bq show --connection --location=${BQ_LOCATION} ${PROJECT_ID}.${CONN_ID} || true\n"
   ]
  },
  {
   "cell_type": "markdown",
   "id": "c99359b8",
   "metadata": {},
   "source": [
    "### (Once) Grant Storage access to the connection service account"
   ]
  },
  {
   "cell_type": "code",
   "execution_count": null,
   "id": "6a6f8e3d",
   "metadata": {},
   "outputs": [],
   "source": [
    "\n",
    "%%bash\n",
    "# Replace MEMBER below with the service account from the 'bq show --connection' output if needed.\n",
    "# This is an example placeholder member; keep your own SA if different.\n",
    "# gcloud storage buckets add-iam-policy-binding gs://${GCS_BUCKET} #   --member=\"serviceAccount:bqcx-XXXX@gcp-sa-bigquery-condel.iam.gserviceaccount.com\" #   --role=\"roles/storage.objectViewer\" || true\n",
    "echo \"Run the add-iam-policy-binding command above once with your connection service account.\"\n"
   ]
  },
  {
   "cell_type": "markdown",
   "id": "bb9632be",
   "metadata": {},
   "source": [
    "## 2) Create **Object Table** over GCS images"
   ]
  },
  {
   "cell_type": "code",
   "execution_count": null,
   "id": "e5105f31",
   "metadata": {},
   "outputs": [],
   "source": [
    "\n",
    "%%bash\n",
    "set -euo pipefail\n",
    "bq --project_id=${PROJECT_ID} --location=${BQ_LOCATION} query --use_legacy_sql=false <<'SQL'\n",
    "CREATE OR REPLACE EXTERNAL TABLE `${PROJECT_ID}.${BQ_DATASET}.${OBJ_TABLE}`\n",
    "WITH CONNECTION `${PROJECT_ID}.${CONN_ID}`\n",
    "OPTIONS (\n",
    "  object_metadata = 'SIMPLE',\n",
    "  uris = ['gs://${GCS_BUCKET}/${GCS_PREFIX}']\n",
    ");\n",
    "SQL\n"
   ]
  },
  {
   "cell_type": "markdown",
   "id": "4efb544a",
   "metadata": {},
   "source": [
    "## 3) Multimodal embedding model + generate image embeddings"
   ]
  },
  {
   "cell_type": "code",
   "execution_count": null,
   "id": "5d721458",
   "metadata": {},
   "outputs": [],
   "source": [
    "\n",
    "%%bash\n",
    "set -euo pipefail\n",
    "bq --project_id=${PROJECT_ID} --location=${BQ_LOCATION} query --use_legacy_sql=false <<'SQL'\n",
    "CREATE OR REPLACE MODEL `${PROJECT_ID}.${BQ_DATASET}.${MM_MODEL}`\n",
    "REMOTE WITH CONNECTION `${PROJECT_ID}.${CONN_ID}`\n",
    "OPTIONS ( endpoint = 'multimodalembedding@001' );\n",
    "\n",
    "CREATE OR REPLACE TABLE `${PROJECT_ID}.${BQ_DATASET}.${IMG_EMB_TABLE}` AS\n",
    "SELECT *\n",
    "FROM ML.GENERATE_EMBEDDING(\n",
    "  MODEL `${PROJECT_ID}.${BQ_DATASET}.${MM_MODEL}`,\n",
    "  TABLE `${PROJECT_ID}.${BQ_DATASET}.${OBJ_TABLE}`,\n",
    "  STRUCT(TRUE AS flatten_json_output)\n",
    ");\n",
    "SQL\n"
   ]
  },
  {
   "cell_type": "markdown",
   "id": "786c136e",
   "metadata": {},
   "source": [
    "## 4) Create vector index for image embeddings"
   ]
  },
  {
   "cell_type": "code",
   "execution_count": null,
   "id": "b6755d07",
   "metadata": {},
   "outputs": [],
   "source": [
    "\n",
    "%%bash\n",
    "set -euo pipefail\n",
    "bq --project_id=${PROJECT_ID} --location=${BQ_LOCATION} query --use_legacy_sql=false <<'SQL'\n",
    "CREATE OR REPLACE VECTOR INDEX `${PROJECT_ID}.${BQ_DATASET}.${IMG_EMB_INDEX}`\n",
    "ON `${PROJECT_ID}.${BQ_DATASET}.${IMG_EMB_TABLE}` (ml_generate_embedding_result)\n",
    "OPTIONS ( index_type = 'IVF', distance_type = 'COSINE' );\n",
    "SQL\n"
   ]
  },
  {
   "cell_type": "markdown",
   "id": "a4507111",
   "metadata": {},
   "source": [
    "## 5) Example image searches (natural language)"
   ]
  },
  {
   "cell_type": "code",
   "execution_count": null,
   "id": "ceed66b9",
   "metadata": {},
   "outputs": [],
   "source": [
    "\n",
    "%%bash\n",
    "set -euo pipefail\n",
    "bq --project_id=${PROJECT_ID} --location=${BQ_LOCATION} query --use_legacy_sql=false <<'SQL'\n",
    "DECLARE q STRING DEFAULT 'lindt chocolate bars';\n",
    "WITH query_vec AS (\n",
    "  SELECT ml_generate_embedding_result AS qvec\n",
    "  FROM ML.GENERATE_EMBEDDING(\n",
    "    MODEL `${PROJECT_ID}.${BQ_DATASET}.${MM_MODEL}`,\n",
    "    (SELECT q AS content),\n",
    "    STRUCT(TRUE AS flatten_json_output)\n",
    "  )\n",
    ")\n",
    "SELECT base.* EXCEPT (ml_generate_embedding_result)\n",
    "FROM VECTOR_SEARCH(\n",
    "  TABLE `${PROJECT_ID}.${BQ_DATASET}.${IMG_EMB_TABLE}`, 'ml_generate_embedding_result',\n",
    "  TABLE query_vec,\n",
    "  query_column_to_search => 'qvec',\n",
    "  top_k => 10, distance_type => 'COSINE'\n",
    ");\n",
    "SQL\n"
   ]
  },
  {
   "cell_type": "code",
   "execution_count": null,
   "id": "2c8c89ec",
   "metadata": {},
   "outputs": [],
   "source": [
    "\n",
    "%%bash\n",
    "set -euo pipefail\n",
    "bq --project_id=${PROJECT_ID} --location=${BQ_LOCATION} query --use_legacy_sql=false <<'SQL'\n",
    "DECLARE q STRING DEFAULT 'shelf with bread and price above 20 SEK';\n",
    "WITH query_vec AS (\n",
    "  SELECT ml_generate_embedding_result AS qvec\n",
    "  FROM ML.GENERATE_EMBEDDING(\n",
    "    MODEL `${PROJECT_ID}.${BQ_DATASET}.${MM_MODEL}`,\n",
    "    (SELECT q AS content),\n",
    "    STRUCT(TRUE AS flatten_json_output)\n",
    "  )\n",
    ")\n",
    "SELECT base.* EXCEPT (ml_generate_embedding_result)\n",
    "FROM VECTOR_SEARCH(\n",
    "  TABLE `${PROJECT_ID}.${BQ_DATASET}.${IMG_EMB_TABLE}`, 'ml_generate_embedding_result',\n",
    "  TABLE query_vec,\n",
    "  query_column_to_search => 'qvec',\n",
    "  top_k => 10, distance_type => 'COSINE'\n",
    ");\n",
    "SQL\n"
   ]
  },
  {
   "cell_type": "markdown",
   "id": "9a28d272",
   "metadata": {},
   "source": [
    "## 6) Load `pricing_promotions.csv` into BigQuery"
   ]
  },
  {
   "cell_type": "code",
   "execution_count": null,
   "id": "b416da69",
   "metadata": {},
   "outputs": [],
   "source": [
    "\n",
    "%%bash\n",
    "cat <<'TXT'\n",
    "Example CLI (run in a shell where the CSV is present):\n",
    "bq --location=${BQ_LOCATION} --project_id=${PROJECT_ID} load   --autodetect --source_format=CSV --skip_leading_rows=1   ${BQ_DATASET}.${PRICING_TABLE} ./pricing_promotions.csv\n",
    "TXT\n"
   ]
  },
  {
   "cell_type": "markdown",
   "id": "9f43c98c",
   "metadata": {},
   "source": [
    "## 7) Text embeddings for pricing table (+ clean view to avoid 0-length vectors)"
   ]
  },
  {
   "cell_type": "code",
   "execution_count": null,
   "id": "9fcbdb1e",
   "metadata": {},
   "outputs": [],
   "source": [
    "\n",
    "%%bash\n",
    "set -euo pipefail\n",
    "bq --project_id=${PROJECT_ID} --location=${BQ_LOCATION} query --use_legacy_sql=false <<'SQL'\n",
    "CREATE OR REPLACE MODEL `${PROJECT_ID}.${BQ_DATASET}.${TXT_MODEL}`\n",
    "REMOTE WITH CONNECTION `${PROJECT_ID}.${CONN_ID}`\n",
    "OPTIONS ( ENDPOINT = 'gemini-embedding-001' );\n",
    "\n",
    "CREATE OR REPLACE TABLE `${PROJECT_ID}.${BQ_DATASET}.${PRICING_EMB_TABLE}` AS\n",
    "SELECT * EXCEPT(content)\n",
    "FROM ML.GENERATE_EMBEDDING(\n",
    "  MODEL `${PROJECT_ID}.${BQ_DATASET}.${TXT_MODEL}`,\n",
    "  (\n",
    "    SELECT TRIM(CONCAT(\n",
    "      IFNULL(product_name, ''), ' ',\n",
    "      IFNULL(category, ''), ' ',\n",
    "      IFNULL(promo_text, ''), ' ',\n",
    "      IFNULL(FORMAT('listed %.2f', listed_price), ''), ' ',\n",
    "      IFNULL(FORMAT('promo %.2f', promo_price), '')\n",
    "    )) AS content,\n",
    "    p.*\n",
    "    FROM `${PROJECT_ID}.${BQ_DATASET}.${PRICING_TABLE}` p\n",
    "  ),\n",
    "  STRUCT(TRUE AS flatten_json_output, 'RETRIEVAL_DOCUMENT' AS task_type)\n",
    ");\n",
    "\n",
    "-- Filtered view: only rows with valid 3072-d vectors (Gemini embedding)\n",
    "CREATE OR REPLACE VIEW `${PROJECT_ID}.${BQ_DATASET}.${PRICING_VEC_VIEW}` AS\n",
    "SELECT *\n",
    "FROM `${PROJECT_ID}.${BQ_DATASET}.${PRICING_EMB_TABLE}`\n",
    "WHERE ARRAY_LENGTH(ml_generate_embedding_result) = 3072;\n",
    "SQL\n"
   ]
  },
  {
   "cell_type": "markdown",
   "id": "cb908ea6",
   "metadata": {},
   "source": [
    "## 8) One‑query discrepancy demo (no manual product tagging)"
   ]
  },
  {
   "cell_type": "code",
   "execution_count": null,
   "id": "568b2059",
   "metadata": {},
   "outputs": [],
   "source": [
    "\n",
    "%%bash\n",
    "set -euo pipefail\n",
    "bq --project_id=${PROJECT_ID} --location=${BQ_LOCATION} query --use_legacy_sql=false <<'SQL'\n",
    "-- Single natural query used for BOTH image + product retrieval\n",
    "DECLARE q STRING DEFAULT 'fresh cucumbers (gurka) display with promo sign \"2 for 30 SEK\" in produce';\n",
    "\n",
    "-- Parse \"N for X\" and compute per‑unit sign price\n",
    "DECLARE n INT64        DEFAULT CAST(IFNULL(REGEXP_EXTRACT(q, r'(\\d+)\\s*for'), '1') AS INT64);\n",
    "DECLARE bundle FLOAT64 DEFAULT CAST(REGEXP_EXTRACT(q, r'for\\s*(\\d{2,3})') AS FLOAT64);\n",
    "DECLARE sign_each_price FLOAT64 DEFAULT SAFE_DIVIDE(bundle, n);\n",
    "\n",
    "WITH\n",
    "img_q AS (\n",
    "  SELECT ml_generate_embedding_result AS qvec\n",
    "  FROM ML.GENERATE_EMBEDDING(\n",
    "    MODEL `${PROJECT_ID}.${BQ_DATASET}.${MM_MODEL}`,\n",
    "    (SELECT q AS content),\n",
    "    STRUCT(TRUE AS flatten_json_output)\n",
    "  )\n",
    "),\n",
    "txt_q AS (\n",
    "  SELECT ml_generate_embedding_result AS qvec\n",
    "  FROM ML.GENERATE_EMBEDDING(\n",
    "    MODEL `${PROJECT_ID}.${BQ_DATASET}.${TXT_MODEL}`,\n",
    "    (SELECT q AS content),\n",
    "    STRUCT(TRUE AS flatten_json_output, 'RETRIEVAL_QUERY' AS task_type)\n",
    "  )\n",
    "),\n",
    "img_hits AS (\n",
    "  SELECT uri, distance AS img_distance\n",
    "  FROM VECTOR_SEARCH(\n",
    "    TABLE `${PROJECT_ID}.${BQ_DATASET}.${IMG_EMB_TABLE}`,\n",
    "    'ml_generate_embedding_result',\n",
    "    TABLE img_q,\n",
    "    query_column_to_search => 'qvec',\n",
    "    top_k => 10,\n",
    "    distance_type => 'COSINE'\n",
    "  )\n",
    "),\n",
    "prod_hits AS (\n",
    "  SELECT\n",
    "    product_name, category, listed_price, promo_text, promo_price, discrepancy_flag,\n",
    "    distance AS txt_distance\n",
    "  FROM VECTOR_SEARCH(\n",
    "    TABLE `${PROJECT_ID}.${BQ_DATASET}.${PRICING_VEC_VIEW}`,\n",
    "    'ml_generate_embedding_result',\n",
    "    TABLE txt_q,\n",
    "    query_column_to_search => 'qvec',\n",
    "    top_k => 5,\n",
    "    distance_type => 'COSINE'\n",
    "  )\n",
    ")\n",
    "SELECT\n",
    "  (SELECT STRING_AGG(uri, '\\n') FROM img_hits ORDER BY img_distance LIMIT 3) AS top_image_uris,\n",
    "  q AS auditor_query,\n",
    "  sign_each_price,\n",
    "  product_name,\n",
    "  category,\n",
    "  listed_price,\n",
    "  promo_text,\n",
    "  promo_price,\n",
    "  discrepancy_flag,\n",
    "  ROUND(ABS(listed_price - sign_each_price), 2) AS delta_vs_sign_listed,\n",
    "  ROUND(ABS(promo_price  - sign_each_price), 2) AS delta_vs_sign_promo,\n",
    "  txt_distance\n",
    "FROM prod_hits\n",
    "ORDER BY delta_vs_sign_listed DESC, txt_distance\n",
    "LIMIT 5;\n",
    "SQL\n"
   ]
  },
  {
   "cell_type": "markdown",
   "id": "a2afddcc",
   "metadata": {},
   "source": [
    "## 9) Troubleshooting: embedding dimensions"
   ]
  },
  {
   "cell_type": "code",
   "execution_count": null,
   "id": "0bac2ef4",
   "metadata": {},
   "outputs": [],
   "source": [
    "\n",
    "%%bash\n",
    "set -euo pipefail\n",
    "bq --project_id=${PROJECT_ID} --location=${BQ_LOCATION} query --use_legacy_sql=false <<'SQL'\n",
    "SELECT ARRAY_LENGTH(ml_generate_embedding_result) AS stored_dim, COUNT(*) c\n",
    "FROM `${PROJECT_ID}.${BQ_DATASET}.${PRICING_EMB_TABLE}`\n",
    "GROUP BY stored_dim\n",
    "ORDER BY stored_dim;\n",
    "\n",
    "-- Check query dimension\n",
    "DECLARE q STRING DEFAULT 'test';\n",
    "WITH txt_q AS (\n",
    "  SELECT ml_generate_embedding_result AS qvec\n",
    "  FROM ML.GENERATE_EMBEDDING(\n",
    "    MODEL `${PROJECT_ID}.${BQ_DATASET}.${TXT_MODEL}`,\n",
    "    (SELECT q AS content),\n",
    "    STRUCT(TRUE AS flatten_json_output, 'RETRIEVAL_QUERY' AS task_type)\n",
    "  )\n",
    ")\n",
    "SELECT ARRAY_LENGTH(qvec) AS query_dim FROM txt_q;\n",
    "SQL\n"
   ]
  },
  {
   "cell_type": "markdown",
   "id": "9966301c",
   "metadata": {},
   "source": [
    "\n",
    "## 10) Wrap‑up\n",
    "- No manual tagging (no image→product map).  \n",
    "- One sentence powers **both** image and structured retrieval.  \n",
    "- Parse the sign → compute per‑unit price → **numeric deltas** expose discrepancies.  \n",
    "- Scale: schedule embedding refresh, keep vector indexes, and feed a dashboard that shows top image hits + price deltas for auditor follow‑up.\n"
   ]
  }
 ],
 "metadata": {
  "language_info": {
   "name": "python"
  }
 },
 "nbformat": 4,
 "nbformat_minor": 5
}
